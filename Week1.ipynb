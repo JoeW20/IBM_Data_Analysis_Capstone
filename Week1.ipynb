<markdown>
This notebook will be used for IBM Applied Data Science Capstone

<codecell>
import pandas as pd
import numpy as np
print("Hello Capstone Project Course")
